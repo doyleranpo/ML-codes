{
 "cells": [
  {
   "cell_type": "code",
   "execution_count": 45,
   "metadata": {},
   "outputs": [
    {
     "name": "stdout",
     "output_type": "stream",
     "text": [
      "15.6\n",
      "79.7\n",
      "[ 1.4 -2.6 -3.6 -0.6  0.4 -1.6  0.4  0.4  2.4  3.4]\n",
      "[ 14.3  -6.7 -20.7   0.3  13.3   5.3 -13.7  -0.7  -2.7  11.3]\n",
      "[ 20.02  17.42  74.52  -0.18   5.32  -8.48  -5.48  -0.28  -6.48  38.42]\n",
      "42.4\n",
      "1206.1\n",
      "0.596094761389\n",
      "11.576316819745005\n",
      "2.1705094128132942\n",
      "3.17924528302\n",
      "30.1037735849\n",
      "[ 84.1509434   71.43396226  68.25471698  77.79245283  80.97169811\n",
      "  74.61320755  80.97169811  80.97169811  87.33018868  90.50943396]\n",
      "Enter x21\n"
     ]
    },
    {
     "data": {
      "image/png": "[encoded data removed]",
      "text/plain": [
       "<matplotlib.figure.Figure at 0x6d55550>"
      ]
     },
     "metadata": {},
     "output_type": "display_data"
    }
   ],
   "source": [
    "import numpy as np\n",
    "import math as math\n",
    "import matplotlib.pyplot as plt\n",
    "dx=[]\n",
    "dy=[]\n",
    "x=np.array([17,13,12,15,16,14,16,16,18,19])\n",
    "y=np.array([94,73,59,80,93,85,66,79,77,91])\n",
    "xbar=x.mean()\n",
    "print(xbar)\n",
    "ybar=y.mean()\n",
    "print(ybar)\n",
    "dx=x-xbar\n",
    "dy=y-ybar\n",
    "dxdy=dx*dy\n",
    "print(dx)\n",
    "print(dy)\n",
    "print(dxdy)\n",
    "dx2=dx*dx\n",
    "dy2=dy*dy\n",
    "print(dx2.sum())\n",
    "print(dy2.sum())\n",
    "deno=math.sqrt(dx2.sum()*dy2.sum())\n",
    "r=(dxdy.sum()/deno)\n",
    "print(r)\n",
    "sy=math.sqrt(dy2.sum()/9)\n",
    "print(sy)\n",
    "sx=math.sqrt(dx2.sum()/9)\n",
    "print(sx)\n",
    "b=r*(sy/sx)\n",
    "print(b)\n",
    "a=ybar-(b*xbar)\n",
    "print(a)\n",
    "y1=a+b*x\n",
    "print(y1)\n",
    "x1=int(input(\"Enter x\"))\n",
    "y2=a+b*x1\n",
    "plt.plot(x,y1,'r--',x1,y2,'b^')\n",
    "plt.xlabel('x')\n",
    "plt.ylabel('y=a+bx')\n",
    "plt.title('Linear Regression')\n",
    "plt.legend()\n",
    "#plt.plot(x1,y2)\n",
    "plt.show()"
   ]
  },
  {
   "cell_type": "code",
   "execution_count": null,
   "metadata": {
    "collapsed": true
   },
   "outputs": [],
   "source": []
  },
  {
   "cell_type": "code",
   "execution_count": null,
   "metadata": {
    "collapsed": true
   },
   "outputs": [],
   "source": []
  },
  {
   "cell_type": "code",
   "execution_count": null,
   "metadata": {
    "collapsed": true
   },
   "outputs": [],
   "source": []
  },
  {
   "cell_type": "code",
   "execution_count": null,
   "metadata": {
    "collapsed": true
   },
   "outputs": [],
   "source": []
  }
 ],
 "metadata": {
  "kernelspec": {
   "display_name": "Python 3",
   "language": "python",
   "name": "python3"
  },
  "language_info": {
   "codemirror_mode": {
    "name": "ipython",
    "version": 3
   },
   "file_extension": ".py",
   "mimetype": "text/x-python",
   "name": "python",
   "nbconvert_exporter": "python",
   "pygments_lexer": "ipython3",
   "version": "3.6.3"
  }
 },
 "nbformat": 4,
 "nbformat_minor": 2
}
