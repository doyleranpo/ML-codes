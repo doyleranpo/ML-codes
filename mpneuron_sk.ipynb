{
 "cells": [
  {
   "cell_type": "code",
   "execution_count": 1,
   "metadata": {},
   "outputs": [
    {
     "name": "stdout",
     "output_type": "stream",
     "text": [
      "Enter w11\n",
      "Enter w20\n",
      "0\n",
      "2\n",
      "[0 0 1 1]\n",
      "[0 0 0 0]\n",
      "x1    x2     yin     Y   Expected Output\n",
      "0      0      0      0        0\n",
      "0      1      0      0        0\n",
      "1      0      1      0        0\n",
      "1      1      1      0        1\n"
     ]
    }
   ],
   "source": [
    "import numpy as np\n",
    "import math as math\n",
    "x1=np.array([0,0,1,1])\n",
    "x2=np.array([0,1,0,1])\n",
    "y=np.array([0,0,0,0])\n",
    "w1=int(input(\"Enter w1\"))\n",
    "w2=int(input(\"Enter w2\"))\n",
    "p=0\n",
    "ans=np.array([0,0,0,1])\n",
    "n=2\n",
    "if(w1<0):\n",
    "    p=p+1\n",
    "if(w2<0):\n",
    "    p=p+1\n",
    "print(p)\n",
    "theta= ((n*(max(w1,w2)))-p)\n",
    "print(theta)\n",
    "for i in range(len(x1)):\n",
    "    yin=((x1*w1)+(x2*w2));\n",
    "print(yin)\n",
    "for i in range(len(x1)):\n",
    "    if(yin[i]>=theta):\n",
    "        y[i]=1\n",
    "print(y)\n",
    "print(\"x1    x2     yin     Y   Expected Output\")\n",
    "for i in range(len(x1)):\n",
    "    print(x1[i],\"    \",x2[i],\"    \",yin[i],\"    \",y[i],\"      \",ans[i])"
   ]
  },
  {
   "cell_type": "code",
   "execution_count": 14,
   "metadata": {},
   "outputs": [
    {
     "data": {
      "text/plain": [
       "1"
      ]
     },
     "execution_count": 14,
     "metadata": {},
     "output_type": "execute_result"
    }
   ],
   "source": [
    "1\n",
    "\n"
   ]
  },
  {
   "cell_type": "code",
   "execution_count": null,
   "metadata": {
    "collapsed": true
   },
   "outputs": [],
   "source": []
  },
  {
   "cell_type": "code",
   "execution_count": null,
   "metadata": {
    "collapsed": true
   },
   "outputs": [],
   "source": []
  },
  {
   "cell_type": "code",
   "execution_count": null,
   "metadata": {
    "collapsed": true
   },
   "outputs": [],
   "source": []
  },
  {
   "cell_type": "code",
   "execution_count": null,
   "metadata": {
    "collapsed": true
   },
   "outputs": [],
   "source": []
  },
  {
   "cell_type": "code",
   "execution_count": null,
   "metadata": {
    "collapsed": true
   },
   "outputs": [],
   "source": []
  },
  {
   "cell_type": "code",
   "execution_count": null,
   "metadata": {
    "collapsed": true
   },
   "outputs": [],
   "source": []
  },
  {
   "cell_type": "code",
   "execution_count": null,
   "metadata": {
    "collapsed": true
   },
   "outputs": [],
   "source": []
  },
  {
   "cell_type": "code",
   "execution_count": null,
   "metadata": {
    "collapsed": true
   },
   "outputs": [],
   "source": []
  },
  {
   "cell_type": "code",
   "execution_count": null,
   "metadata": {
    "collapsed": true
   },
   "outputs": [],
   "source": []
  },
  {
   "cell_type": "code",
   "execution_count": null,
   "metadata": {
    "collapsed": true
   },
   "outputs": [],
   "source": []
  },
  {
   "cell_type": "code",
   "execution_count": null,
   "metadata": {
    "collapsed": true
   },
   "outputs": [],
   "source": []
  },
  {
   "cell_type": "code",
   "execution_count": null,
   "metadata": {
    "collapsed": true
   },
   "outputs": [],
   "source": []
  }
 ],
 "metadata": {
  "kernelspec": {
   "display_name": "Python 3",
   "language": "python",
   "name": "python3"
  },
  "language_info": {
   "codemirror_mode": {
    "name": "ipython",
    "version": 3
   },
   "file_extension": ".py",
   "mimetype": "text/x-python",
   "name": "python",
   "nbconvert_exporter": "python",
   "pygments_lexer": "ipython3",
   "version": "3.6.3"
  }
 },
 "nbformat": 4,
 "nbformat_minor": 2
}
